{
 "cells": [
  {
   "cell_type": "markdown",
   "id": "bc642ea2",
   "metadata": {},
   "source": [
    "#Conditional Statement"
   ]
  },
  {
   "cell_type": "code",
   "execution_count": 1,
   "id": "5c4f7cba",
   "metadata": {},
   "outputs": [
    {
     "name": "stdout",
     "output_type": "stream",
     "text": [
      "Hey Buddy\n"
     ]
    }
   ],
   "source": [
    "if True:\n",
    "    print('Hey Buddy')"
   ]
  },
  {
   "cell_type": "code",
   "execution_count": 3,
   "id": "50cd64fb",
   "metadata": {},
   "outputs": [
    {
     "ename": "NameError",
     "evalue": "name 'true' is not defined",
     "output_type": "error",
     "traceback": [
      "\u001b[31m---------------------------------------------------------------------------\u001b[39m",
      "\u001b[31mNameError\u001b[39m                                 Traceback (most recent call last)",
      "\u001b[36mCell\u001b[39m\u001b[36m \u001b[39m\u001b[32mIn[3]\u001b[39m\u001b[32m, line 1\u001b[39m\n\u001b[32m----> \u001b[39m\u001b[32m1\u001b[39m \u001b[38;5;28;01mif\u001b[39;00m \u001b[43mtrue\u001b[49m:\n\u001b[32m      2\u001b[39m     \u001b[38;5;28mprint\u001b[39m(\u001b[33m'\u001b[39m\u001b[33mhi\u001b[39m\u001b[33m'\u001b[39m)\n",
      "\u001b[31mNameError\u001b[39m: name 'true' is not defined"
     ]
    }
   ],
   "source": [
    "if true:\n",
    "    print('hi')"
   ]
  },
  {
   "cell_type": "code",
   "execution_count": 4,
   "id": "6a40cc9e",
   "metadata": {},
   "outputs": [
    {
     "ename": "IndentationError",
     "evalue": "expected an indented block after 'if' statement on line 1 (1785633973.py, line 2)",
     "output_type": "error",
     "traceback": [
      "  \u001b[36mCell\u001b[39m\u001b[36m \u001b[39m\u001b[32mIn[4]\u001b[39m\u001b[32m, line 2\u001b[39m\n\u001b[31m    \u001b[39m\u001b[31mprint('hello')\u001b[39m\n    ^\n\u001b[31mIndentationError\u001b[39m\u001b[31m:\u001b[39m expected an indented block after 'if' statement on line 1\n"
     ]
    }
   ],
   "source": [
    "if True:\n",
    "print('hello')"
   ]
  },
  {
   "cell_type": "code",
   "execution_count": 6,
   "id": "7b9f6d97",
   "metadata": {},
   "outputs": [
    {
     "name": "stdout",
     "output_type": "stream",
     "text": [
      "hello\n"
     ]
    }
   ],
   "source": [
    "if True:                  #after this statement 4 space required\n",
    " print('hello')"
   ]
  },
  {
   "cell_type": "code",
   "execution_count": 8,
   "id": "bc0c95a6",
   "metadata": {},
   "outputs": [
    {
     "name": "stdout",
     "output_type": "stream",
     "text": [
      "Data science\n"
     ]
    }
   ],
   "source": [
    "if True:\n",
    "    print('Data science')"
   ]
  },
  {
   "cell_type": "code",
   "execution_count": 10,
   "id": "d838b0d7",
   "metadata": {},
   "outputs": [
    {
     "name": "stdout",
     "output_type": "stream",
     "text": [
      "bye bye for now\n"
     ]
    }
   ],
   "source": [
    "if False:\n",
    "    print('Data science')\n",
    "print('bye bye for now')"
   ]
  },
  {
   "cell_type": "code",
   "execution_count": 11,
   "id": "bdec132a",
   "metadata": {},
   "outputs": [
    {
     "name": "stdout",
     "output_type": "stream",
     "text": [
      "Data science\n",
      "bye bye for now\n"
     ]
    }
   ],
   "source": [
    "if True:\n",
    "    print('Data science')\n",
    "print('bye bye for now')"
   ]
  },
  {
   "cell_type": "code",
   "execution_count": 12,
   "id": "d0f9905a",
   "metadata": {},
   "outputs": [
    {
     "name": "stdout",
     "output_type": "stream",
     "text": [
      "Data science\n"
     ]
    }
   ],
   "source": [
    "if True:\n",
    "    print('Data science')\n",
    "else:\n",
    "    print('bye bye for now')"
   ]
  },
  {
   "cell_type": "code",
   "execution_count": 13,
   "id": "71f8a0f2",
   "metadata": {},
   "outputs": [
    {
     "name": "stdout",
     "output_type": "stream",
     "text": [
      "bye bye for now\n"
     ]
    }
   ],
   "source": [
    "if False:\n",
    "    print('Data science')\n",
    "else:\n",
    "    print('bye bye for now')"
   ]
  },
  {
   "cell_type": "code",
   "execution_count": 14,
   "id": "99f5910d",
   "metadata": {},
   "outputs": [
    {
     "name": "stdout",
     "output_type": "stream",
     "text": [
      "Even Number\n"
     ]
    }
   ],
   "source": [
    "x=4\n",
    "r=x%2\n",
    "\n",
    "if r==0:\n",
    "    print('Even Number')"
   ]
  },
  {
   "cell_type": "code",
   "execution_count": 18,
   "id": "99aa986e",
   "metadata": {},
   "outputs": [],
   "source": [
    "x=5\n",
    "r=x%2\n",
    "\n",
    "if r==0:\n",
    "    print('Even Number')"
   ]
  },
  {
   "cell_type": "code",
   "execution_count": 20,
   "id": "f5c5a829",
   "metadata": {},
   "outputs": [
    {
     "name": "stdout",
     "output_type": "stream",
     "text": [
      "Odd Number\n"
     ]
    }
   ],
   "source": [
    "x=5\n",
    "r=x%2\n",
    "\n",
    "if r==0:\n",
    "    print('Even Number')\n",
    "else:\n",
    "    print('Odd Number')"
   ]
  },
  {
   "cell_type": "code",
   "execution_count": 21,
   "id": "1f814438",
   "metadata": {},
   "outputs": [
    {
     "name": "stdout",
     "output_type": "stream",
     "text": [
      "Even Number\n"
     ]
    }
   ],
   "source": [
    "x=418648\n",
    "r=x%2\n",
    "\n",
    "if r==0:\n",
    "    print('Even Number')\n",
    "else:\n",
    "    print('Odd Number')"
   ]
  },
  {
   "cell_type": "code",
   "execution_count": 22,
   "id": "7fd510f8",
   "metadata": {},
   "outputs": [
    {
     "name": "stdout",
     "output_type": "stream",
     "text": [
      "Even Number\n"
     ]
    }
   ],
   "source": [
    "x=4\n",
    "r=x%2\n",
    "\n",
    "if r==0:\n",
    "    print('Even Number')\n",
    "if r==1:\n",
    "    print('Odd Number')\n",
    "if r==2:\n",
    "     print('even number')\n",
    "    "
   ]
  },
  {
   "cell_type": "code",
   "execution_count": 23,
   "id": "4d883424",
   "metadata": {},
   "outputs": [
    {
     "name": "stdout",
     "output_type": "stream",
     "text": [
      "Odd Number\n"
     ]
    }
   ],
   "source": [
    "x=5\n",
    "r=x%2\n",
    "\n",
    "if r==0:\n",
    "    print('Even Number')\n",
    "if r==1:\n",
    "    print('Odd Number')\n",
    "if r==2:\n",
    "     print('even number')\n",
    "    "
   ]
  },
  {
   "cell_type": "code",
   "execution_count": 24,
   "id": "c71a26ca",
   "metadata": {},
   "outputs": [
    {
     "name": "stdout",
     "output_type": "stream",
     "text": [
      "one\n"
     ]
    }
   ],
   "source": [
    "x=1\n",
    "\n",
    "if x==1:\n",
    "    print('one')\n",
    "if x==2:\n",
    "    print('two')\n",
    "if x==3:\n",
    "    print('three')"
   ]
  },
  {
   "cell_type": "code",
   "execution_count": 25,
   "id": "2d3ed691",
   "metadata": {},
   "outputs": [
    {
     "name": "stdout",
     "output_type": "stream",
     "text": [
      "three\n"
     ]
    }
   ],
   "source": [
    "x=3\n",
    "\n",
    "if x==1:\n",
    "    print('one')\n",
    "if x==2:\n",
    "    print('two')\n",
    "if x==3:\n",
    "    print('three')"
   ]
  },
  {
   "cell_type": "code",
   "execution_count": 26,
   "id": "46c9d015",
   "metadata": {},
   "outputs": [],
   "source": [
    "x=6\n",
    "\n",
    "if x==1:\n",
    "    print('one')\n",
    "if x==2:\n",
    "    print('two')\n",
    "if x==3:\n",
    "    print('three')"
   ]
  },
  {
   "cell_type": "code",
   "execution_count": 27,
   "id": "71c5fd42",
   "metadata": {},
   "outputs": [
    {
     "name": "stdout",
     "output_type": "stream",
     "text": [
      "odd number\n"
     ]
    }
   ],
   "source": [
    "x=3\n",
    "r=x%2\n",
    "\n",
    "if r==0:\n",
    "    print('even number')\n",
    "    if x>5:\n",
    "        print('greater number')\n",
    "else :\n",
    "    print('odd number')"
   ]
  },
  {
   "cell_type": "code",
   "execution_count": 28,
   "id": "c563fa2c",
   "metadata": {},
   "outputs": [
    {
     "name": "stdout",
     "output_type": "stream",
     "text": [
      "even number\n"
     ]
    }
   ],
   "source": [
    "x=4\n",
    "r=x%2\n",
    "\n",
    "if r==0:\n",
    "    print('even number')\n",
    "    if x>5:\n",
    "        print('greater number')\n",
    "else :\n",
    "    print('odd number')"
   ]
  },
  {
   "cell_type": "code",
   "execution_count": 29,
   "id": "f120086e",
   "metadata": {},
   "outputs": [
    {
     "name": "stdout",
     "output_type": "stream",
     "text": [
      "even number\n",
      "greater number\n"
     ]
    }
   ],
   "source": [
    "x=6\n",
    "r=x%2\n",
    "\n",
    "if r==0:\n",
    "    print('even number')\n",
    "    if x>5:\n",
    "        print('greater number')\n",
    "else :\n",
    "    print('odd number')"
   ]
  },
  {
   "cell_type": "code",
   "execution_count": 31,
   "id": "62b29835",
   "metadata": {},
   "outputs": [
    {
     "name": "stdout",
     "output_type": "stream",
     "text": [
      "odd number\n"
     ]
    }
   ],
   "source": [
    "x=7\n",
    "r=x%2\n",
    "\n",
    "if r==0:\n",
    "    print('even number')\n",
    "    if x>5:\n",
    "        print('greater number')\n",
    "else :\n",
    "    print('odd number')"
   ]
  },
  {
   "cell_type": "code",
   "execution_count": 37,
   "id": "4eb6b93b",
   "metadata": {},
   "outputs": [
    {
     "name": "stdout",
     "output_type": "stream",
     "text": [
      "Even number\n",
      "number is lesser number\n"
     ]
    }
   ],
   "source": [
    "x = 4\n",
    "r = x % 2\n",
    "\n",
    "if r == 0:\n",
    "    print('Even number')\n",
    "    \n",
    "    if x>5:\n",
    "        print('greater number')\n",
    "\n",
    "    \n",
    "    else:\n",
    "        print('number is lesser number')\n",
    "  \n",
    "else:\n",
    "    print('Odd Number')"
   ]
  },
  {
   "cell_type": "code",
   "execution_count": 38,
   "id": "1115893a",
   "metadata": {},
   "outputs": [
    {
     "name": "stdout",
     "output_type": "stream",
     "text": [
      "Odd Number\n"
     ]
    }
   ],
   "source": [
    "x = 5\n",
    "r = x % 2\n",
    "\n",
    "if r == 0:\n",
    "    print('Even number')\n",
    "    \n",
    "    if x>5:\n",
    "        print('greater number')\n",
    "\n",
    "    \n",
    "    else:\n",
    "        print('number is lesser number')\n",
    "  \n",
    "else:\n",
    "    print('Odd Number')"
   ]
  },
  {
   "cell_type": "code",
   "execution_count": 39,
   "id": "17e6301f",
   "metadata": {},
   "outputs": [
    {
     "name": "stdout",
     "output_type": "stream",
     "text": [
      "Even number\n",
      "greater number\n"
     ]
    }
   ],
   "source": [
    "x = 6\n",
    "r = x % 2\n",
    "\n",
    "if r == 0:\n",
    "    print('Even number')\n",
    "    \n",
    "    if x>5:\n",
    "        print('greater number')\n",
    "\n",
    "    \n",
    "    else:\n",
    "        print('number is lesser number')\n",
    "  \n",
    "else:\n",
    "    print('Odd Number') "
   ]
  },
  {
   "cell_type": "code",
   "execution_count": 40,
   "id": "3e2967ca",
   "metadata": {},
   "outputs": [
    {
     "name": "stdout",
     "output_type": "stream",
     "text": [
      "Odd Number\n"
     ]
    }
   ],
   "source": [
    "x = 7\n",
    "r = x % 2\n",
    "\n",
    "if r == 0:\n",
    "    print('Even number')\n",
    "    \n",
    "    if x>5:\n",
    "        print('greater number')\n",
    "\n",
    "    \n",
    "    else:\n",
    "        print('number is lesser number')\n",
    "  \n",
    "else:\n",
    "    print('Odd Number')"
   ]
  },
  {
   "cell_type": "code",
   "execution_count": 41,
   "id": "2bfd8869",
   "metadata": {},
   "outputs": [
    {
     "name": "stdout",
     "output_type": "stream",
     "text": [
      "four\n"
     ]
    }
   ],
   "source": [
    "x = 4\n",
    "\n",
    "if(x == 1):\n",
    "    print('one')\n",
    "elif(x == 2):\n",
    "    print('Two')\n",
    "elif(x == 3):\n",
    "    print('Three')\n",
    "elif(x == 4):\n",
    "    print('four')"
   ]
  },
  {
   "cell_type": "code",
   "execution_count": 42,
   "id": "c18c5a6d",
   "metadata": {},
   "outputs": [
    {
     "name": "stdout",
     "output_type": "stream",
     "text": [
      "Three\n"
     ]
    }
   ],
   "source": [
    "x = 3\n",
    "\n",
    "if(x == 1):\n",
    "    print('one')\n",
    "elif(x == 2):\n",
    "    print('Two')\n",
    "elif(x == 3):\n",
    "    print('Three')\n",
    "elif(x == 4):\n",
    "    print('four')"
   ]
  },
  {
   "cell_type": "code",
   "execution_count": 43,
   "id": "7133a92b",
   "metadata": {},
   "outputs": [
    {
     "name": "stdout",
     "output_type": "stream",
     "text": [
      "one\n"
     ]
    }
   ],
   "source": [
    "x = 1\n",
    "\n",
    "if(x == 1):\n",
    "    print('one')\n",
    "elif(x == 2):\n",
    "    print('Two')\n",
    "elif(x == 3):\n",
    "    print('Three')\n",
    "elif(x == 4):\n",
    "    print('four')"
   ]
  },
  {
   "cell_type": "code",
   "execution_count": 44,
   "id": "b0593dc4",
   "metadata": {},
   "outputs": [],
   "source": [
    "x = 7\n",
    "\n",
    "if(x == 1):\n",
    "    print('one')\n",
    "elif(x == 2):\n",
    "    print('Two')\n",
    "elif(x == 3):\n",
    "    print('Three')\n",
    "elif(x == 4):\n",
    "    print('four')"
   ]
  },
  {
   "cell_type": "code",
   "execution_count": 45,
   "id": "c708fe6a",
   "metadata": {},
   "outputs": [
    {
     "name": "stdout",
     "output_type": "stream",
     "text": [
      "number not found\n"
     ]
    }
   ],
   "source": [
    "x = 7\n",
    "\n",
    "if(x == 1):\n",
    "    print('one')\n",
    "elif(x == 2):\n",
    "    print('Two')\n",
    "elif(x == 3):\n",
    "    print('Three')\n",
    "elif(x == 4):\n",
    "    print('four')\n",
    "else:\n",
    "    print('number not found')"
   ]
  },
  {
   "cell_type": "markdown",
   "id": "92cd48c6",
   "metadata": {},
   "source": [
    "#Loops"
   ]
  },
  {
   "cell_type": "code",
   "execution_count": 48,
   "id": "47545919",
   "metadata": {},
   "outputs": [
    {
     "name": "stdout",
     "output_type": "stream",
     "text": [
      "Hello\n",
      "Hello\n",
      "Hello\n",
      "Hello\n",
      "Hello\n"
     ]
    }
   ],
   "source": [
    "i=1\n",
    "while i<=5:\n",
    "    print('Hello')\n",
    "    i=i+1"
   ]
  },
  {
   "cell_type": "code",
   "execution_count": 1,
   "id": "118604d6",
   "metadata": {},
   "outputs": [
    {
     "name": "stdout",
     "output_type": "stream",
     "text": [
      "data science\n",
      "technology\n",
      "technology\n",
      "technology\n",
      "technology\n",
      "\n",
      "data science\n",
      "technology\n",
      "technology\n",
      "technology\n",
      "technology\n",
      "\n",
      "data science\n",
      "technology\n",
      "technology\n",
      "technology\n",
      "technology\n",
      "\n",
      "data science\n",
      "technology\n",
      "technology\n",
      "technology\n",
      "technology\n",
      "\n",
      "data science\n",
      "technology\n",
      "technology\n",
      "technology\n",
      "technology\n",
      "\n"
     ]
    }
   ],
   "source": [
    "i=1\n",
    "\n",
    "while i<=5:\n",
    "    print('data science')\n",
    "    j=1\n",
    "    while j<=4:\n",
    "        print('technology')\n",
    "        j= j + 1\n",
    "    \n",
    "    \n",
    "    i= i + 1\n",
    "    print()"
   ]
  },
  {
   "cell_type": "code",
   "execution_count": 5,
   "id": "f6070923",
   "metadata": {},
   "outputs": [
    {
     "name": "stdout",
     "output_type": "stream",
     "text": [
      "data sciencetechnologytechnologytechnologytechnology\n",
      "data sciencetechnologytechnologytechnologytechnology\n",
      "data sciencetechnologytechnologytechnologytechnology\n",
      "data sciencetechnologytechnologytechnologytechnology\n",
      "data sciencetechnologytechnologytechnologytechnology\n"
     ]
    }
   ],
   "source": [
    "i=1\n",
    "\n",
    "while i<=5:\n",
    "    print('data science',end=\"\")\n",
    "    j=1\n",
    "    while j<=4:\n",
    "        \n",
    "        print('technology',end=\"\")\n",
    "        j= j + 1\n",
    "    \n",
    "    \n",
    "    i= i + 1\n",
    "    print()"
   ]
  },
  {
   "cell_type": "code",
   "execution_count": 6,
   "id": "b1a13865",
   "metadata": {},
   "outputs": [
    {
     "name": "stdout",
     "output_type": "stream",
     "text": [
      "data science technology technology technology technology\n",
      "data science technology technology technology technology\n",
      "data science technology technology technology technology\n",
      "data science technology technology technology technology\n",
      "data science technology technology technology technology\n"
     ]
    }
   ],
   "source": [
    "i=1\n",
    "\n",
    "while i<=5:\n",
    "    print('data science',end=\"\")\n",
    "    j=1\n",
    "    while j<=4:\n",
    "        \n",
    "        print(' technology',end=\"\")\n",
    "        j= j + 1\n",
    "    \n",
    "    \n",
    "    i= i + 1\n",
    "    print()"
   ]
  },
  {
   "cell_type": "code",
   "execution_count": 1,
   "id": "debfb80f",
   "metadata": {},
   "outputs": [
    {
     "name": "stdout",
     "output_type": "stream",
     "text": [
      "0  1  2  \n",
      "0  2  4  \n"
     ]
    }
   ],
   "source": [
    "i=1\n",
    "\n",
    "while i<=2:\n",
    "    j=0\n",
    "    while j<=2:\n",
    "        print(i*j,end=\"  \")\n",
    "        j=j+1\n",
    "    print()\n",
    "    i+=1    "
   ]
  },
  {
   "cell_type": "code",
   "execution_count": 3,
   "id": "381e80fc",
   "metadata": {},
   "outputs": [
    {
     "name": "stdout",
     "output_type": "stream",
     "text": [
      "0  1  2  3  \n",
      "0  2  4  6  \n",
      "0  3  6  9  \n",
      "0  4  8  12  \n"
     ]
    }
   ],
   "source": [
    "i=1\n",
    "\n",
    "while i<=4:\n",
    "    j=0\n",
    "    while j<=3:\n",
    "        print(i*j,end=\"  \")\n",
    "        j=j+1\n",
    "    i+=1\n",
    "    print()"
   ]
  },
  {
   "cell_type": "code",
   "execution_count": null,
   "id": "6bb3f32e",
   "metadata": {},
   "outputs": [],
   "source": [
    "FOR LOOP  -\n",
    "normally while loop it work with iteration or certaion some condition but \n",
    "for loop it will work with sequence (list, string,int)"
   ]
  },
  {
   "cell_type": "code",
   "execution_count": 4,
   "id": "5c1ae1d5",
   "metadata": {},
   "outputs": [
    {
     "name": "stdout",
     "output_type": "stream",
     "text": [
      "n\n",
      "i\n",
      "t\n"
     ]
    }
   ],
   "source": [
    "name='nit'\n",
    "\n",
    "for i in name:\n",
    "    print(i)"
   ]
  },
  {
   "cell_type": "code",
   "execution_count": 5,
   "id": "62ae5a64",
   "metadata": {},
   "outputs": [
    {
     "name": "stdout",
     "output_type": "stream",
     "text": [
      "1\n",
      "2\n",
      "34\n",
      "f\n",
      "u\n"
     ]
    }
   ],
   "source": [
    "name1=[1,2,34,'f','u']\n",
    "\n",
    "for i in name1:\n",
    "    print(i)"
   ]
  },
  {
   "cell_type": "code",
   "execution_count": 6,
   "id": "fd975feb",
   "metadata": {},
   "outputs": [
    {
     "name": "stdout",
     "output_type": "stream",
     "text": [
      "1\n",
      "2\n",
      "3\n",
      "4\n",
      "f\n",
      "uy\n"
     ]
    }
   ],
   "source": [
    "name2=(1,2,3,4,'f','uy')\n",
    "\n",
    "for i in name2:\n",
    "    print(i)"
   ]
  },
  {
   "cell_type": "code",
   "execution_count": 7,
   "id": "d0df96a5",
   "metadata": {},
   "outputs": [
    {
     "name": "stdout",
     "output_type": "stream",
     "text": [
      "1\n",
      "2\n",
      "3\n",
      "4\n",
      "wr\n",
      "sd\n"
     ]
    }
   ],
   "source": [
    "name3={1,2,3,4,'sd','wr'}\n",
    "\n",
    "for i in name3:\n",
    "    print(i)"
   ]
  },
  {
   "cell_type": "code",
   "execution_count": null,
   "id": "8a6f5e25",
   "metadata": {},
   "outputs": [
    {
     "name": "stdout",
     "output_type": "stream",
     "text": [
      "name\n",
      "city\n",
      "course\n"
     ]
    }
   ],
   "source": [
    "name4={'name':'nit','city':'pune','course':'data science'}\n",
    "for i in name4:\n",
    "    print(i)"
   ]
  },
  {
   "cell_type": "code",
   "execution_count": 11,
   "id": "890c2f3e",
   "metadata": {},
   "outputs": [
    {
     "name": "stdout",
     "output_type": "stream",
     "text": [
      "nit\n",
      "pune\n",
      "data science\n"
     ]
    }
   ],
   "source": [
    "name4={'name':'nit','city':'pune','course':'data science'}\n",
    "for i in name4.values():\n",
    "    print(i)"
   ]
  },
  {
   "cell_type": "code",
   "execution_count": 12,
   "id": "ebd27a2e",
   "metadata": {},
   "outputs": [
    {
     "name": "stdout",
     "output_type": "stream",
     "text": [
      "1\n",
      "2\n",
      "3\n"
     ]
    }
   ],
   "source": [
    "for i in(1,2,3):\n",
    "    print(i)\n"
   ]
  },
  {
   "cell_type": "code",
   "execution_count": 13,
   "id": "bb332c3c",
   "metadata": {},
   "outputs": [
    {
     "name": "stdout",
     "output_type": "stream",
     "text": [
      "1\n",
      "2\n"
     ]
    }
   ],
   "source": [
    "for i in {1:'A',2:'B'}:\n",
    "    print(i)"
   ]
  },
  {
   "cell_type": "code",
   "execution_count": 14,
   "id": "a65d4fe4",
   "metadata": {},
   "outputs": [
    {
     "name": "stdout",
     "output_type": "stream",
     "text": [
      "A\n",
      "B\n"
     ]
    }
   ],
   "source": [
    "for i in {1:'A',2:'B'}.values():\n",
    "    print(i)"
   ]
  },
  {
   "cell_type": "code",
   "execution_count": 15,
   "metadata": {},
   "outputs": [
    {
     "name": "stdout",
     "output_type": "stream",
     "text": [
      "0\n",
      "1\n",
      "2\n",
      "3\n",
      "4\n"
     ]
    }
   ],
   "source": [
    "for i in range(5):\n",
    "    print(i)"
   ]
  },
  {
   "cell_type": "code",
   "execution_count": 16,
   "metadata": {},
   "outputs": [
    {
     "name": "stdout",
     "output_type": "stream",
     "text": [
      "2\n",
      "3\n",
      "4\n"
     ]
    }
   ],
   "source": [
    "for i in range(2,5):\n",
    "    print(i)"
   ]
  },
  {
   "cell_type": "code",
   "execution_count": 17,
   "id": "2e6b1fc9",
   "metadata": {},
   "outputs": [
    {
     "name": "stdout",
     "output_type": "stream",
     "text": [
      "1\n",
      "6\n"
     ]
    }
   ],
   "source": [
    "for i in range(1,10,5):\n",
    "    print(i)"
   ]
  },
  {
   "cell_type": "code",
   "execution_count": 18,
   "id": "c7edac05",
   "metadata": {},
   "outputs": [
    {
     "name": "stdout",
     "output_type": "stream",
     "text": [
      "1996\n",
      "2000\n",
      "2\n",
      "3\n"
     ]
    }
   ],
   "source": [
    "a=['nit','pune',1996,2000,2,3,4,54,3.56,True]\n",
    "for i in a[2:6]:\n",
    "    print(i)"
   ]
  },
  {
   "cell_type": "code",
   "execution_count": 21,
   "id": "dd3a127e",
   "metadata": {},
   "outputs": [
    {
     "name": "stdout",
     "output_type": "stream",
     "text": [
      "2\n",
      "0\n",
      "0\n",
      "0\n"
     ]
    }
   ],
   "source": [
    "a=['nit','pune',1996,2000,2,3,4,54,3.56,True]\n",
    "for i in str(a[3]):\n",
    "    print(i)"
   ]
  },
  {
   "cell_type": "code",
   "execution_count": 24,
   "id": "4409bc0e",
   "metadata": {},
   "outputs": [
    {
     "name": "stdout",
     "output_type": "stream",
     "text": [
      "2000"
     ]
    }
   ],
   "source": [
    "a=['nit','pune',1996,2000,2,3,4,54,3.56,True]\n",
    "for i in str(a[3], ):\n",
    "    print(i,end=\"\")"
   ]
  },
  {
   "cell_type": "code",
   "execution_count": 25,
   "id": "8523989c",
   "metadata": {},
   "outputs": [
    {
     "name": "stdout",
     "output_type": "stream",
     "text": [
      "5\n",
      "10\n",
      "15\n",
      "20\n",
      "25\n",
      "30\n",
      "35\n",
      "40\n",
      "45\n",
      "50\n"
     ]
    }
   ],
   "source": [
    "for i in range(1,51):\n",
    "    if i%5==0:\n",
    "        print(i)"
   ]
  },
  {
   "cell_type": "code",
   "execution_count": 26,
   "id": "00a97309",
   "metadata": {},
   "outputs": [
    {
     "name": "stdout",
     "output_type": "stream",
     "text": [
      "15\n",
      "30\n",
      "45\n"
     ]
    }
   ],
   "source": [
    "for i in range(1,51):\n",
    "    if i%3==0 and i%5==0:\n",
    "        print(i)"
   ]
  },
  {
   "cell_type": "code",
   "execution_count": 27,
   "id": "1854f134",
   "metadata": {},
   "outputs": [
    {
     "name": "stdout",
     "output_type": "stream",
     "text": [
      "3\n",
      "5\n",
      "6\n",
      "9\n",
      "10\n",
      "12\n",
      "15\n",
      "18\n",
      "20\n",
      "21\n",
      "24\n",
      "25\n",
      "27\n",
      "30\n",
      "33\n",
      "35\n",
      "36\n",
      "39\n",
      "40\n",
      "42\n",
      "45\n",
      "48\n",
      "50\n"
     ]
    }
   ],
   "source": [
    "for i in range(1,51):\n",
    "    if i%3==0 or i%5==0:\n",
    "        print(i)"
   ]
  },
  {
   "cell_type": "code",
   "execution_count": 32,
   "id": "8df074c1",
   "metadata": {},
   "outputs": [
    {
     "name": "stdout",
     "output_type": "stream",
     "text": [
      "chocolate\n",
      "chocolate\n",
      "chocolate\n",
      "chocolate\n",
      "chocolate\n"
     ]
    }
   ],
   "source": [
    "x=int(input('How many chocolates you want?'))\n",
    "\n",
    "i = 1\n",
    "while i<=x:\n",
    "    print('chocolate')\n",
    "    i += 1"
   ]
  },
  {
   "cell_type": "code",
   "execution_count": 33,
   "id": "7a90332d",
   "metadata": {},
   "outputs": [
    {
     "name": "stdout",
     "output_type": "stream",
     "text": [
      "chocolate\n",
      "chocolate\n",
      "chocolate\n",
      "chocolate\n",
      "chocolate\n",
      "chocolate\n",
      "chocolate\n",
      "chocolate\n",
      "chocolate\n",
      "chocolate\n"
     ]
    }
   ],
   "source": [
    "avg=5\n",
    "\n",
    "x=int(input('How many chocolates you want?'))\n",
    "\n",
    "i = 1\n",
    "while i<=x:\n",
    "    print('chocolate')\n",
    "    i += 1\n"
   ]
  },
  {
   "cell_type": "code",
   "execution_count": 42,
   "id": "ec0a1140",
   "metadata": {},
   "outputs": [
    {
     "name": "stdout",
     "output_type": "stream",
     "text": [
      "chocalate\n",
      "chocalate\n",
      "chocalate\n",
      "chocalate\n",
      "bye for now\n"
     ]
    }
   ],
   "source": [
    "avg = 5\n",
    "x=int(input('How many chocolates you want?'))\n",
    "\n",
    "i=1\n",
    "while i<=x:\n",
    "    \n",
    "    if i>avg:\n",
    "        break\n",
    "    print('chocalate')\n",
    "    i += 1\n",
    "    \n",
    "print('bye for now')"
   ]
  },
  {
   "cell_type": "code",
   "execution_count": 50,
   "metadata": {},
   "outputs": [
    {
     "name": "stdout",
     "output_type": "stream",
     "text": [
      "chocalate\n",
      "chocalate\n",
      "chocalate\n",
      "chocalate\n",
      "chocalate\n",
      "sorry not available\n",
      "bye for now\n"
     ]
    }
   ],
   "source": [
    "available=5\n",
    "\n",
    "x=int(input('How many chocolates you want?'))\n",
    "\n",
    "i=1\n",
    "while i<=x:\n",
    "    \n",
    "    if i>available:\n",
    "        print('sorry not available')\n",
    "        break\n",
    "    print('chocalate')\n",
    "    i += 1\n",
    "print('bye for now')"
   ]
  },
  {
   "cell_type": "code",
   "execution_count": 53,
   "id": "834e8510",
   "metadata": {},
   "outputs": [
    {
     "name": "stdout",
     "output_type": "stream",
     "text": [
      "1\n",
      "2\n",
      "3\n",
      "4\n",
      "5\n",
      "6\n",
      "7\n",
      "8\n",
      "9\n",
      "10\n"
     ]
    }
   ],
   "source": [
    "for i in range(1,11):\n",
    "    print(i)"
   ]
  },
  {
   "cell_type": "code",
   "execution_count": 56,
   "metadata": {},
   "outputs": [
    {
     "name": "stdout",
     "output_type": "stream",
     "text": [
      "1\n",
      "2\n",
      "3\n",
      "4\n",
      "5\n"
     ]
    }
   ],
   "source": [
    "for i in range(1,11):\n",
    "    if i==6:\n",
    "        break\n",
    "    print(i)"
   ]
  },
  {
   "cell_type": "code",
   "execution_count": 57,
   "metadata": {},
   "outputs": [
    {
     "name": "stdout",
     "output_type": "stream",
     "text": [
      "1\n",
      "2\n",
      "3\n",
      "4\n",
      "5\n",
      "7\n",
      "8\n",
      "9\n",
      "10\n"
     ]
    }
   ],
   "source": [
    "for i in range(1,11):\n",
    "    if i==6:\n",
    "        continue\n",
    "    print(i)"
   ]
  },
  {
   "cell_type": "code",
   "execution_count": 59,
   "id": "60286da0",
   "metadata": {},
   "outputs": [
    {
     "name": "stdout",
     "output_type": "stream",
     "text": [
      "hellow: 1\n",
      "hellow: 2\n",
      "hellow: 3\n",
      "hellow: 4\n",
      "hellow: 5\n",
      "hellow: 7\n",
      "hellow: 8\n",
      "hellow: 9\n",
      "hellow: 10\n"
     ]
    }
   ],
   "source": [
    "for i in range(1,11):\n",
    "    if i==6:\n",
    "        continue\n",
    "    print('hellow:',i)"
   ]
  },
  {
   "cell_type": "code",
   "execution_count": 60,
   "metadata": {},
   "outputs": [
    {
     "ename": "_IncompleteInputError",
     "evalue": "incomplete input (1334445784.py, line 1)",
     "output_type": "error",
     "traceback": [
      "  \u001b[36mCell\u001b[39m\u001b[36m \u001b[39m\u001b[32mIn[60]\u001b[39m\u001b[32m, line 1\u001b[39m\n\u001b[31m    \u001b[39m\u001b[31mfor i in range(1,11):\u001b[39m\n                         ^\n\u001b[31m_IncompleteInputError\u001b[39m\u001b[31m:\u001b[39m incomplete input\n"
     ]
    }
   ],
   "source": [
    "for i in range(1,11):"
   ]
  },
  {
   "cell_type": "code",
   "execution_count": 61,
   "id": "e680321b",
   "metadata": {},
   "outputs": [],
   "source": [
    "for i in range(1,11):\n",
    "    pass"
   ]
  },
  {
   "cell_type": "code",
   "execution_count": 62,
   "id": "b0a95f60",
   "metadata": {},
   "outputs": [
    {
     "name": "stdout",
     "output_type": "stream",
     "text": [
      "3\n",
      "6\n",
      "9\n",
      "12\n",
      "15\n",
      "18\n",
      "21\n",
      "24\n",
      "27\n",
      "30\n",
      "33\n",
      "36\n",
      "39\n",
      "42\n",
      "45\n",
      "48\n"
     ]
    }
   ],
   "source": [
    "for i in range(1,50):\n",
    "    if i%3==0:\n",
    "        print(i)"
   ]
  },
  {
   "cell_type": "code",
   "execution_count": 72,
   "id": "e869f4ab",
   "metadata": {},
   "outputs": [
    {
     "name": "stdout",
     "output_type": "stream",
     "text": [
      "1\n",
      "2\n",
      "4\n",
      "5\n",
      "7\n",
      "8\n",
      "10\n",
      "11\n",
      "13\n",
      "14\n",
      "16\n",
      "17\n",
      "19\n",
      "20\n",
      "22\n",
      "23\n",
      "25\n",
      "26\n",
      "28\n",
      "29\n",
      "31\n",
      "32\n",
      "34\n",
      "35\n",
      "37\n",
      "38\n",
      "40\n",
      "41\n",
      "43\n",
      "44\n",
      "46\n",
      "47\n",
      "49\n",
      "50\n"
     ]
    }
   ],
   "source": [
    "for i in range(1,51):\n",
    "    if i%3 == 0:\n",
    "        continue\n",
    "    print(i)\n"
   ]
  },
  {
   "cell_type": "code",
   "execution_count": 74,
   "id": "37afc5b4",
   "metadata": {},
   "outputs": [
    {
     "name": "stdout",
     "output_type": "stream",
     "text": [
      "****\n",
      "****\n",
      "****\n",
      "****\n"
     ]
    }
   ],
   "source": [
    "for i in range(1,5):\n",
    "    \n",
    "    i=i+1\n",
    "    print('****')"
   ]
  },
  {
   "cell_type": "code",
   "execution_count": 76,
   "metadata": {},
   "outputs": [
    {
     "name": "stdout",
     "output_type": "stream",
     "text": [
      "#\n",
      "#\n",
      "#\n",
      "#\n"
     ]
    }
   ],
   "source": [
    "for i in range(1,5):\n",
    "    print('#')"
   ]
  },
  {
   "cell_type": "code",
   "execution_count": 78,
   "metadata": {},
   "outputs": [
    {
     "name": "stdout",
     "output_type": "stream",
     "text": [
      "####  ####  ####  ####  "
     ]
    }
   ],
   "source": [
    "for i in range(1,5):\n",
    "    print('####', end=\"  \")"
   ]
  },
  {
   "cell_type": "code",
   "execution_count": 80,
   "id": "410647cc",
   "metadata": {},
   "outputs": [
    {
     "name": "stdout",
     "output_type": "stream",
     "text": [
      "####  ####  ####  ####  ####  ####  ####  ####  "
     ]
    }
   ],
   "source": [
    "for j in range(4):\n",
    "    print('####', end=\"  \")\n",
    "    \n",
    "for j in range(4):\n",
    "    print('####', end=\"  \")\n",
    "    \n",
    "    "
   ]
  },
  {
   "cell_type": "code",
   "execution_count": 81,
   "metadata": {},
   "outputs": [
    {
     "name": "stdout",
     "output_type": "stream",
     "text": [
      "##  ##  ##  ##  \n",
      "##  ##  ##  ##  "
     ]
    }
   ],
   "source": [
    "for j in range(4):\n",
    "    print('##', end=\"  \")\n",
    "    \n",
    "print()\n",
    "\n",
    "for j in range(4):\n",
    "    print('##', end=\"  \")"
   ]
  },
  {
   "cell_type": "code",
   "execution_count": 82,
   "id": "480a78ef",
   "metadata": {},
   "outputs": [
    {
     "name": "stdout",
     "output_type": "stream",
     "text": [
      "#  #  #  #  \n",
      "#  #  #  #  \n",
      "#  #  #  #  \n",
      "#  #  #  #  \n"
     ]
    }
   ],
   "source": [
    "for i in range(4):\n",
    "    for j in range(4):\n",
    "        print('#', end=\"  \")\n",
    "    print()"
   ]
  },
  {
   "cell_type": "code",
   "execution_count": 94,
   "id": "b95e0264",
   "metadata": {},
   "outputs": [
    {
     "name": "stdout",
     "output_type": "stream",
     "text": [
      "#  \n",
      "#  #  \n",
      "#  #  #  \n",
      "#  #  #  #  \n"
     ]
    }
   ],
   "source": [
    "for i in range(4):\n",
    "    for j in range(i+1):\n",
    "        print('#', end=\"  \")\n",
    "    print()"
   ]
  },
  {
   "cell_type": "code",
   "execution_count": 99,
   "id": "56417b3d",
   "metadata": {},
   "outputs": [
    {
     "name": "stdout",
     "output_type": "stream",
     "text": [
      "# \n",
      "# # \n",
      "# # # \n",
      "# # # # \n"
     ]
    }
   ],
   "source": [
    "for i in range(1,5):\n",
    "    print(\"# \" *i)"
   ]
  },
  {
   "cell_type": "code",
   "execution_count": 104,
   "id": "efbea1ef",
   "metadata": {},
   "outputs": [
    {
     "name": "stdout",
     "output_type": "stream",
     "text": [
      "#  #  #  #  \n",
      "#  #  #  #  \n",
      "#  #  #  #  \n"
     ]
    }
   ],
   "source": [
    "for i in range(1,4):\n",
    "    for j in range(4):\n",
    "        i<j\n",
    "        print('#', end=\"  \")\n",
    "    print()"
   ]
  },
  {
   "cell_type": "code",
   "execution_count": 105,
   "id": "decc40a5",
   "metadata": {},
   "outputs": [
    {
     "data": {
      "text/plain": [
       "[0, 1, 2, 3, 4]"
      ]
     },
     "execution_count": 105,
     "metadata": {},
     "output_type": "execute_result"
    }
   ],
   "source": [
    "list(range(5))"
   ]
  },
  {
   "cell_type": "code",
   "execution_count": 106,
   "id": "ef30d9c9",
   "metadata": {},
   "outputs": [
    {
     "name": "stdout",
     "output_type": "stream",
     "text": [
      "\n",
      "#  \n",
      "#  #  \n",
      "#  #  #  \n",
      "#  #  #  #  \n"
     ]
    }
   ],
   "source": [
    "for i in range(5):\n",
    "    for j in range(i):\n",
    "        print('#', end=\"  \")\n",
    "    print()"
   ]
  },
  {
   "cell_type": "code",
   "execution_count": 111,
   "id": "ef5070b9",
   "metadata": {},
   "outputs": [
    {
     "name": "stdout",
     "output_type": "stream",
     "text": [
      "\n",
      "#  \n",
      "#  #  \n",
      "#  #  #  \n",
      "#  #  #  #  \n"
     ]
    }
   ],
   "source": [
    "for i in range(5):\n",
    "    for j in range(i):\n",
    "        print('#', end=\"  \")\n",
    "    print()"
   ]
  },
  {
   "cell_type": "code",
   "execution_count": 109,
   "metadata": {},
   "outputs": [
    {
     "data": {
      "text/plain": [
       "range(5, 1)"
      ]
     },
     "execution_count": 109,
     "metadata": {},
     "output_type": "execute_result"
    }
   ],
   "source": [
    "range(5,1)"
   ]
  },
  {
   "cell_type": "code",
   "execution_count": 113,
   "id": "632ef828",
   "metadata": {},
   "outputs": [
    {
     "name": "stdout",
     "output_type": "stream",
     "text": [
      "#  #  #  #  \n",
      "#  #  #  \n",
      "#  #  \n",
      "#  \n"
     ]
    }
   ],
   "source": [
    "for i in range(4):\n",
    "    for j in range(4-i):\n",
    "        print('#', end=\"  \")\n",
    "    print()"
   ]
  },
  {
   "cell_type": "code",
   "execution_count": 117,
   "id": "f773b20a",
   "metadata": {},
   "outputs": [
    {
     "name": "stdout",
     "output_type": "stream",
     "text": [
      "# # # # \n",
      "# # # \n",
      "# # \n",
      "# \n"
     ]
    }
   ],
   "source": [
    "for i in range(1,5):\n",
    "    print('# '*(5-i))"
   ]
  },
  {
   "cell_type": "code",
   "execution_count": 123,
   "id": "aa8f330a",
   "metadata": {},
   "outputs": [
    {
     "name": "stdout",
     "output_type": "stream",
     "text": [
      "2\n",
      "24\n",
      "24\n",
      "432534\n",
      "6566\n",
      "32\n"
     ]
    }
   ],
   "source": [
    "nums=[1,2,3,24,423,24,432534,6566,65,32]\n",
    "\n",
    "for num in nums:\n",
    "    if num%2==0:\n",
    "        print(num)\n",
    "    "
   ]
  },
  {
   "cell_type": "code",
   "execution_count": 127,
   "id": "fd7f00b1",
   "metadata": {},
   "outputs": [
    {
     "name": "stdout",
     "output_type": "stream",
     "text": [
      "35\n"
     ]
    }
   ],
   "source": [
    "nums=[12,2,35,2,3]\n",
    "\n",
    "for num in nums:\n",
    "    if num%5==0:\n",
    "        print(num)\n",
    "        break"
   ]
  },
  {
   "cell_type": "code",
   "execution_count": 130,
   "id": "15b855b5",
   "metadata": {},
   "outputs": [
    {
     "name": "stdout",
     "output_type": "stream",
     "text": [
      "not found\n"
     ]
    }
   ],
   "source": [
    "x=[12,32,24,42,566]\n",
    "\n",
    "for y in x:\n",
    "    if y%5==0:\n",
    "        print(y)\n",
    "        break\n",
    "else:\n",
    "        print('not found')"
   ]
  },
  {
   "cell_type": "code",
   "execution_count": 131,
   "id": "86fc9783",
   "metadata": {},
   "outputs": [
    {
     "name": "stdout",
     "output_type": "stream",
     "text": [
      "not found\n",
      "not found\n",
      "not found\n",
      "not found\n",
      "not found\n",
      "not found\n",
      "not found\n"
     ]
    }
   ],
   "source": [
    "a=[2,3,3,5354,654,33,26]\n",
    "\n",
    "for b in a:\n",
    "    if b%5==0:\n",
    "        print(b)\n",
    "        break\n",
    "    else:\n",
    "        print('not found')"
   ]
  },
  {
   "cell_type": "code",
   "execution_count": 144,
   "id": "4c4684db",
   "metadata": {},
   "outputs": [
    {
     "name": "stdout",
     "output_type": "stream",
     "text": [
      "not found\n"
     ]
    }
   ],
   "source": [
    "a=[2,3,3,5354,654,33,26]\n",
    "\n",
    "for b in a:\n",
    "    if b%5==0:\n",
    "        print(b)\n",
    "        break\n",
    "else:\n",
    "     print('not found')"
   ]
  },
  {
   "cell_type": "code",
   "execution_count": 146,
   "id": "82d8f6ea",
   "metadata": {},
   "outputs": [
    {
     "name": "stdout",
     "output_type": "stream",
     "text": [
      "5354\n"
     ]
    }
   ],
   "source": [
    "\n",
    "a=[7,3,3,5354,654,33,26]\n",
    "\n",
    "for b in a:\n",
    "    if b%2==0:\n",
    "        print(b)\n",
    "        break\n",
    "else:\n",
    "     print('not found')"
   ]
  },
  {
   "cell_type": "code",
   "execution_count": 148,
   "id": "00548fff",
   "metadata": {},
   "outputs": [
    {
     "name": "stdout",
     "output_type": "stream",
     "text": [
      "2\n",
      "5354\n",
      "654\n",
      "26\n",
      "not found\n"
     ]
    }
   ],
   "source": [
    "a=[2,3,3,5354,654,33,26]\n",
    "\n",
    "for b in a:\n",
    "    if b%2==0:\n",
    "        print(b)\n",
    "        \n",
    "else:\n",
    "     print('not found')"
   ]
  },
  {
   "cell_type": "code",
   "execution_count": 166,
   "id": "79528d3f",
   "metadata": {},
   "outputs": [
    {
     "name": "stdout",
     "output_type": "stream",
     "text": [
      "not prime\n"
     ]
    }
   ],
   "source": [
    "a=14\n",
    "\n",
    "for i in range(2,a):\n",
    "    if a % i == 0:\n",
    "        print('not prime')\n",
    "        break\n",
    "else:\n",
    "     print('prime')"
   ]
  },
  {
   "cell_type": "code",
   "execution_count": 167,
   "id": "509ea1f9",
   "metadata": {},
   "outputs": [
    {
     "name": "stdout",
     "output_type": "stream",
     "text": [
      "not prime\n"
     ]
    }
   ],
   "source": [
    "a=int(input('enter a number:'))\n",
    "\n",
    "for i in range(2,a):\n",
    "    if a % i == 0:\n",
    "        print('not prime')\n",
    "        break\n",
    "else:\n",
    "     print('prime')"
   ]
  },
  {
   "cell_type": "code",
   "execution_count": 168,
   "id": "d98893d0",
   "metadata": {},
   "outputs": [
    {
     "name": "stdout",
     "output_type": "stream",
     "text": [
      "array('i', [4, 2, 3, 3, 2])\n"
     ]
    }
   ],
   "source": [
    "from array import *\n",
    "arr=array('i',[])\n",
    "n=int(input('enter length of array:'))\n",
    " \n",
    "for i in range(5):\n",
    "    x=int(input('enter next value:'))\n",
    "    arr.append(x)\n",
    "print(arr)"
   ]
  },
  {
   "cell_type": "code",
   "execution_count": 169,
   "id": "0881da67",
   "metadata": {},
   "outputs": [
    {
     "name": "stdout",
     "output_type": "stream",
     "text": [
      "[1 2 3 4 5]\n"
     ]
    },
    {
     "data": {
      "text/plain": [
       "numpy.ndarray"
      ]
     },
     "execution_count": 169,
     "metadata": {},
     "output_type": "execute_result"
    }
   ],
   "source": [
    "from numpy import *\n",
    "arr=array([1,2,3,4,5])  \n",
    "print(arr)\n",
    "type(arr)"
   ]
  },
  {
   "cell_type": "code",
   "execution_count": 170,
   "id": "b458c248",
   "metadata": {},
   "outputs": [
    {
     "name": "stdout",
     "output_type": "stream",
     "text": [
      "int64\n"
     ]
    }
   ],
   "source": [
    "print(arr.dtype)"
   ]
  },
  {
   "cell_type": "code",
   "execution_count": 172,
   "id": "8154809d",
   "metadata": {},
   "outputs": [],
   "source": [
    "import numpy as np"
   ]
  },
  {
   "cell_type": "code",
   "execution_count": 173,
   "id": "5d39d4d0",
   "metadata": {},
   "outputs": [
    {
     "name": "stdout",
     "output_type": "stream",
     "text": [
      "[ 0.          1.66666667  3.33333333  5.          6.66666667  8.33333333\n",
      " 10.         11.66666667 13.33333333 15.        ]\n"
     ]
    }
   ],
   "source": [
    "arr=np.linspace(0,15,10)\n",
    "print(arr)"
   ]
  },
  {
   "cell_type": "code",
   "execution_count": 175,
   "id": "86905056",
   "metadata": {},
   "outputs": [
    {
     "data": {
      "text/plain": [
       "array([ 1,  3,  5,  7,  9, 11, 13])"
      ]
     },
     "execution_count": 175,
     "metadata": {},
     "output_type": "execute_result"
    }
   ],
   "source": [
    "x=np.arange(1,15,2)\n",
    "x"
   ]
  },
  {
   "cell_type": "code",
   "execution_count": 177,
   "id": "56875182",
   "metadata": {},
   "outputs": [
    {
     "data": {
      "text/plain": [
       "array([0., 0., 0., 0., 0.])"
      ]
     },
     "execution_count": 177,
     "metadata": {},
     "output_type": "execute_result"
    }
   ],
   "source": [
    "a=np.zeros(5)\n",
    "a"
   ]
  },
  {
   "cell_type": "code",
   "execution_count": 178,
   "id": "32197010",
   "metadata": {},
   "outputs": [
    {
     "data": {
      "text/plain": [
       "array([1., 1., 1., 1., 1.])"
      ]
     },
     "execution_count": 178,
     "metadata": {},
     "output_type": "execute_result"
    }
   ],
   "source": [
    "b=np.ones(5)\n",
    "b"
   ]
  },
  {
   "cell_type": "code",
   "execution_count": null,
   "id": "edb65647",
   "metadata": {},
   "outputs": [],
   "source": []
  },
  {
   "cell_type": "code",
   "execution_count": null,
   "id": "f3106ac0",
   "metadata": {},
   "outputs": [],
   "source": []
  }
 ],
 "metadata": {
  "kernelspec": {
   "display_name": "Python 3",
   "language": "python",
   "name": "python3"
  },
  "language_info": {
   "codemirror_mode": {
    "name": "ipython",
    "version": 3
   },
   "file_extension": ".py",
   "mimetype": "text/x-python",
   "name": "python",
   "nbconvert_exporter": "python",
   "pygments_lexer": "ipython3",
   "version": "3.13.5"
  }
 },
 "nbformat": 4,
 "nbformat_minor": 5
}
